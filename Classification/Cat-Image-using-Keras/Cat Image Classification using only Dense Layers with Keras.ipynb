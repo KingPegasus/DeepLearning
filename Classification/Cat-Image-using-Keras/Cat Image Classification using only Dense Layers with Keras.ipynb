{
 "cells": [
  {
   "cell_type": "markdown",
   "metadata": {},
   "source": [
    "# Training a Computer to Differentiate Cats"
   ]
  },
  {
   "cell_type": "code",
   "execution_count": 1,
   "metadata": {},
   "outputs": [
    {
     "name": "stderr",
     "output_type": "stream",
     "text": [
      "D:\\Anaconda3\\lib\\site-packages\\tensorflow\\python\\framework\\dtypes.py:526: FutureWarning: Passing (type, 1) or '1type' as a synonym of type is deprecated; in a future version of numpy, it will be understood as (type, (1,)) / '(1,)type'.\n",
      "  _np_qint8 = np.dtype([(\"qint8\", np.int8, 1)])\n",
      "D:\\Anaconda3\\lib\\site-packages\\tensorflow\\python\\framework\\dtypes.py:527: FutureWarning: Passing (type, 1) or '1type' as a synonym of type is deprecated; in a future version of numpy, it will be understood as (type, (1,)) / '(1,)type'.\n",
      "  _np_quint8 = np.dtype([(\"quint8\", np.uint8, 1)])\n",
      "D:\\Anaconda3\\lib\\site-packages\\tensorflow\\python\\framework\\dtypes.py:528: FutureWarning: Passing (type, 1) or '1type' as a synonym of type is deprecated; in a future version of numpy, it will be understood as (type, (1,)) / '(1,)type'.\n",
      "  _np_qint16 = np.dtype([(\"qint16\", np.int16, 1)])\n",
      "D:\\Anaconda3\\lib\\site-packages\\tensorflow\\python\\framework\\dtypes.py:529: FutureWarning: Passing (type, 1) or '1type' as a synonym of type is deprecated; in a future version of numpy, it will be understood as (type, (1,)) / '(1,)type'.\n",
      "  _np_quint16 = np.dtype([(\"quint16\", np.uint16, 1)])\n",
      "D:\\Anaconda3\\lib\\site-packages\\tensorflow\\python\\framework\\dtypes.py:530: FutureWarning: Passing (type, 1) or '1type' as a synonym of type is deprecated; in a future version of numpy, it will be understood as (type, (1,)) / '(1,)type'.\n",
      "  _np_qint32 = np.dtype([(\"qint32\", np.int32, 1)])\n",
      "D:\\Anaconda3\\lib\\site-packages\\tensorflow\\python\\framework\\dtypes.py:535: FutureWarning: Passing (type, 1) or '1type' as a synonym of type is deprecated; in a future version of numpy, it will be understood as (type, (1,)) / '(1,)type'.\n",
      "  np_resource = np.dtype([(\"resource\", np.ubyte, 1)])\n"
     ]
    },
    {
     "name": "stdout",
     "output_type": "stream",
     "text": [
      "1.13.2\n"
     ]
    }
   ],
   "source": [
    "import tensorflow as tf;\n",
    "print(tf.__version__)"
   ]
  },
  {
   "cell_type": "code",
   "execution_count": 2,
   "metadata": {},
   "outputs": [
    {
     "name": "stdout",
     "output_type": "stream",
     "text": [
      "2.2.4\n"
     ]
    },
    {
     "name": "stderr",
     "output_type": "stream",
     "text": [
      "Using TensorFlow backend.\n"
     ]
    }
   ],
   "source": [
    "import keras as keras\n",
    "print(keras.__version__)"
   ]
  },
  {
   "cell_type": "code",
   "execution_count": 3,
   "metadata": {},
   "outputs": [],
   "source": [
    "from keras.models import Sequential, load_model\n",
    "from keras.layers import Dense, Activation, Dropout\n",
    "from keras.layers.normalization import BatchNormalization\n",
    "from keras.optimizers import SGD, Adam\n",
    "from keras import regularizers\n",
    "import numpy as np\n",
    "import pandas as pd\n",
    "import matplotlib.pyplot as plt\n",
    "import h5py\n",
    "\n",
    "%matplotlib inline\n",
    "np.random.seed(1)"
   ]
  },
  {
   "cell_type": "code",
   "execution_count": 4,
   "metadata": {},
   "outputs": [],
   "source": [
    "plt.rcParams['figure.figsize'] = (8.0, 8.0) # set default size of plots\n",
    "plt.rcParams['image.interpolation'] = 'nearest'\n",
    "plt.rcParams['image.cmap'] = 'gray'\n",
    "\n",
    "np.random.seed(1)"
   ]
  },
  {
   "cell_type": "markdown",
   "metadata": {},
   "source": [
    "## 1 - Overview of the data set\n",
    "\n",
    "First of all, we'll load the data. After loading, here's a basic overview;\n",
    "\n",
    "- a training set of m_train images labeled as cat (y=1) or non-cat (y=0)\n",
    "- a test set of m_test images labeled as cat or non-cat\n",
    "- each image is of shape (num_px, num_px, 3) where 3 is for the 3 channels (RGB). Thus, each image is square (height = num_px) and (width = num_px)."
   ]
  },
  {
   "cell_type": "code",
   "execution_count": 5,
   "metadata": {},
   "outputs": [],
   "source": [
    "train_dataset = h5py.File('./data/train.h5', \"r\")\n",
    "train_set_x_orig = np.array(train_dataset[\"train_set_x\"][:]) # train set features\n",
    "train_set_y_orig = np.array(train_dataset[\"train_set_y\"][:]) # train set labels\n",
    "\n",
    "test_dataset = h5py.File('./data/test.h5', \"r\")\n",
    "test_set_x_orig = np.array(test_dataset[\"test_set_x\"][:]) # test set features\n",
    "test_set_y_orig = np.array(test_dataset[\"test_set_y\"][:]) # test set labels"
   ]
  },
  {
   "cell_type": "code",
   "execution_count": 6,
   "metadata": {},
   "outputs": [
    {
     "data": {
      "text/plain": [
       "array([b'non-cat', b'cat'], dtype='|S7')"
      ]
     },
     "execution_count": 6,
     "metadata": {},
     "output_type": "execute_result"
    }
   ],
   "source": [
    "classes = np.array(test_dataset[\"list_classes\"][:]) # the list of classes\n",
    "classes"
   ]
  },
  {
   "cell_type": "code",
   "execution_count": 7,
   "metadata": {},
   "outputs": [
    {
     "name": "stdout",
     "output_type": "stream",
     "text": [
      "(1, 209)\n",
      "(1, 50)\n"
     ]
    }
   ],
   "source": [
    "train_set_y = train_set_y_orig.reshape((1, train_set_y_orig.shape[0]))\n",
    "test_set_y = test_set_y_orig.reshape((1, test_set_y_orig.shape[0]))\n",
    "print(train_set_y.shape)\n",
    "print(test_set_y.shape)"
   ]
  },
  {
   "cell_type": "markdown",
   "metadata": {},
   "source": [
    "Each line of train_set_x_orig and test_set_x_orig is an array representing an image. You can visualize an example by running the following code. Feel free also to change the index value and re-run to see other images."
   ]
  },
  {
   "cell_type": "code",
   "execution_count": 8,
   "metadata": {},
   "outputs": [
    {
     "data": {
      "text/plain": [
       "array([[[ 75,  64,  63],\n",
       "        [ 75,  65,  63],\n",
       "        [ 78,  67,  65],\n",
       "        ...,\n",
       "        [ 70,  59,  56],\n",
       "        [ 69,  56,  54],\n",
       "        [ 68,  55,  54]],\n",
       "\n",
       "       [[ 79,  68,  65],\n",
       "        [ 77,  67,  64],\n",
       "        [ 79,  70,  68],\n",
       "        ...,\n",
       "        [ 73,  62,  59],\n",
       "        [ 70,  59,  55],\n",
       "        [ 68,  55,  53]],\n",
       "\n",
       "       [[ 80,  69,  66],\n",
       "        [ 83,  71,  67],\n",
       "        [ 85,  73,  71],\n",
       "        ...,\n",
       "        [ 75,  64,  60],\n",
       "        [ 71,  61,  57],\n",
       "        [ 69,  58,  56]],\n",
       "\n",
       "       ...,\n",
       "\n",
       "       [[105,  91,  93],\n",
       "        [101,  87,  90],\n",
       "        [100,  87,  88],\n",
       "        ...,\n",
       "        [ 91,  79,  79],\n",
       "        [ 87,  76,  76],\n",
       "        [ 87,  77,  76]],\n",
       "\n",
       "       [[100,  86,  86],\n",
       "        [ 99,  84,  86],\n",
       "        [ 93,  80,  83],\n",
       "        ...,\n",
       "        [ 90,  79,  79],\n",
       "        [ 86,  75,  75],\n",
       "        [ 83,  73,  70]],\n",
       "\n",
       "       [[ 98,  83,  84],\n",
       "        [ 97,  81,  83],\n",
       "        [ 94,  81,  83],\n",
       "        ...,\n",
       "        [ 87,  77,  75],\n",
       "        [ 83,  73,  71],\n",
       "        [ 80,  69,  67]]], dtype=uint8)"
      ]
     },
     "execution_count": 8,
     "metadata": {},
     "output_type": "execute_result"
    }
   ],
   "source": [
    "train_set_x_orig[109]"
   ]
  },
  {
   "cell_type": "code",
   "execution_count": 9,
   "metadata": {
    "scrolled": true
   },
   "outputs": [
    {
     "name": "stdout",
     "output_type": "stream",
     "text": [
      "y = [1], it's a 'cat' picture.\n"
     ]
    },
    {
     "data": {
      "image/png": "[encoded data removed]",
      "text/plain": [
       "<Figure size 576x576 with 1 Axes>"
      ]
     },
     "metadata": {
      "needs_background": "light"
     },
     "output_type": "display_data"
    }
   ],
   "source": [
    "# Example of a picture\n",
    "index = 109\n",
    "plt.imshow(train_set_x_orig[index])\n",
    "print (\"y = \" + str(train_set_y[:, index]) + \", it's a '\" + classes[np.squeeze(train_set_y[:, index])].decode(\"utf-8\") +  \"' picture.\")"
   ]
  },
  {
   "cell_type": "markdown",
   "metadata": {},
   "source": [
    "## 2 - Data preprocessing\n",
    "\n",
    "Common steps for pre-processing a new dataset are:\n",
    "\n",
    "- Figure out the dimensions and shapes of the problem (m_train, m_test, num_px, ...)\n",
    "- Reshape the datasets such that each example is now a vector of size (num_px * num_px * 3, 1)\n",
    "- \"Standardize\" the data\n",
    "\n",
    "Many software bugs in deep learning come from having matrix/vector dimensions that don't fit. If you can keep your matrix/vector dimensions straight you will go a long way toward eliminating many bugs."
   ]
  },
  {
   "cell_type": "markdown",
   "metadata": {},
   "source": [
    "### 2.1 Dimensions of our data"
   ]
  },
  {
   "cell_type": "code",
   "execution_count": 10,
   "metadata": {},
   "outputs": [
    {
     "data": {
      "text/plain": [
       "64"
      ]
     },
     "execution_count": 10,
     "metadata": {},
     "output_type": "execute_result"
    }
   ],
   "source": [
    "train_set_x_orig.shape[2]"
   ]
  },
  {
   "cell_type": "code",
   "execution_count": 11,
   "metadata": {
    "scrolled": true
   },
   "outputs": [
    {
     "name": "stdout",
     "output_type": "stream",
     "text": [
      "Dataset dimensions:\n",
      "Number of training examples: m_train = 209\n",
      "Number of testing examples: m_test = 50\n",
      "Height/Width of each image: num_px = 64\n",
      "Each image is of size: (64, 64, 3)\n"
     ]
    }
   ],
   "source": [
    "m_train = train_set_x_orig.shape[0]\n",
    "m_test = test_set_x_orig.shape[0]\n",
    "num_px = train_set_x_orig.shape[1]\n",
    "\n",
    "print (\"Dataset dimensions:\")\n",
    "print (\"Number of training examples: m_train = \" + str(m_train))\n",
    "print (\"Number of testing examples: m_test = \" + str(m_test))\n",
    "print (\"Height/Width of each image: num_px = \" + str(num_px))\n",
    "print (\"Each image is of size: (\" + str(num_px) + \", \" + str(num_px) + \", 3)\")"
   ]
  },
  {
   "cell_type": "code",
   "execution_count": 12,
   "metadata": {},
   "outputs": [
    {
     "name": "stdout",
     "output_type": "stream",
     "text": [
      "train_set_x shape: (209, 64, 64, 3)\n",
      "train_set_y shape: (1, 209)\n",
      "test_set_x shape: (50, 64, 64, 3)\n",
      "test_set_y shape: (1, 50)\n"
     ]
    }
   ],
   "source": [
    "print (\"train_set_x shape: \" + str(train_set_x_orig.shape))\n",
    "print (\"train_set_y shape: \" + str(train_set_y.shape))\n",
    "print (\"test_set_x shape: \" + str(test_set_x_orig.shape))\n",
    "print (\"test_set_y shape: \" + str(test_set_y.shape))"
   ]
  },
  {
   "cell_type": "markdown",
   "metadata": {},
   "source": [
    "### 2.2 Reshaping data"
   ]
  },
  {
   "cell_type": "markdown",
   "metadata": {},
   "source": [
    "For convenience, we now reshape images of shape (num_px, num_px, 3) in a numpy-array of shape (num_px $*$ num_px $*$ 3, 1). After this, our training (and test) dataset is a numpy-array where each column represents a flattened image. There should be m_train (respectively m_test) columns.\n",
    "\n",
    "A trick when you want to flatten a matrix X of shape (a,b,c,d) to a matrix X_flatten of shape (b$*$c$*$d, a) is to use:\n",
    "\n",
    "    X_flatten = X.reshape(X.shape[0], -1).T      # X.T is the transpose of X"
   ]
  },
  {
   "cell_type": "code",
   "execution_count": 13,
   "metadata": {},
   "outputs": [
    {
     "name": "stdout",
     "output_type": "stream",
     "text": [
      "train_set_x_flatten shape: (209, 12288)\n",
      "train_set_y shape: (209, 1)\n",
      "test_set_x_flatten shape: (50, 12288)\n",
      "test_set_y shape: (50, 1)\n"
     ]
    }
   ],
   "source": [
    "# Reshape the training and test examples\n",
    "\n",
    "train_set_x_flatten = train_set_x_orig.reshape(train_set_x_orig.shape[0], -1)\n",
    "test_set_x_flatten = test_set_x_orig.reshape(test_set_x_orig.shape[0], -1)\n",
    "train_set_y = train_set_y.T\n",
    "test_set_y = test_set_y.T\n",
    "\n",
    "print (\"train_set_x_flatten shape: \" + str(train_set_x_flatten.shape))\n",
    "print (\"train_set_y shape: \" + str(train_set_y.shape))\n",
    "print (\"test_set_x_flatten shape: \" + str(test_set_x_flatten.shape))\n",
    "print (\"test_set_y shape: \" + str(test_set_y.shape))"
   ]
  },
  {
   "cell_type": "markdown",
   "metadata": {},
   "source": [
    "### 2.3 Standardizing data"
   ]
  },
  {
   "cell_type": "markdown",
   "metadata": {},
   "source": [
    "One common preprocessing step in machine learning is to center and standardize your dataset, meaning that you substract the mean of the whole numpy array from each example, and then divide each example by the standard deviation of the whole numpy array. But for picture datasets, it is simpler and more convenient and works almost as well to just divide every row of the dataset by 255 (the maximum value of a pixel channel).\n",
    "\n",
    "Let's standardize our dataset."
   ]
  },
  {
   "cell_type": "code",
   "execution_count": 14,
   "metadata": {},
   "outputs": [],
   "source": [
    "train_set_x = train_set_x_flatten/255.\n",
    "test_set_x = test_set_x_flatten/255."
   ]
  },
  {
   "cell_type": "code",
   "execution_count": 15,
   "metadata": {},
   "outputs": [
    {
     "data": {
      "text/plain": [
       "(209, 12288)"
      ]
     },
     "execution_count": 15,
     "metadata": {},
     "output_type": "execute_result"
    }
   ],
   "source": [
    "train_set_x.shape"
   ]
  },
  {
   "cell_type": "markdown",
   "metadata": {},
   "source": [
    "## 3 - Modeling"
   ]
  },
  {
   "cell_type": "code",
   "execution_count": 16,
   "metadata": {},
   "outputs": [],
   "source": [
    "from numpy.random import seed\n",
    "seed(1)\n",
    "from tensorflow import set_random_seed\n",
    "set_random_seed(1)"
   ]
  },
  {
   "cell_type": "code",
   "execution_count": 17,
   "metadata": {},
   "outputs": [],
   "source": [
    "# Utility function\n",
    "def evaluate_this_model(model):\n",
    "    history = model.fit(train_set_x, train_set_y, epochs=100, verbose=True)\n",
    "    results = model.evaluate(test_set_x, test_set_y)\n",
    "    \n",
    "    plt.plot(np.squeeze(history.history[\"loss\"]))\n",
    "    plt.ylabel('cost')\n",
    "    plt.xlabel('iterations (per tens)')\n",
    "    plt.title(\"Learning rate =\" + str(learning_rate))\n",
    "    plt.show()\n",
    "    \n",
    "    print(\"\\n\\nAccuracy on training set is {}\".format(history.history[\"acc\"][-1]))\n",
    "    print(\"\\nAccuracy on test set is {}\".format(results[1]))"
   ]
  },
  {
   "cell_type": "markdown",
   "metadata": {},
   "source": [
    "### 3.1 Starting with a basic model"
   ]
  },
  {
   "cell_type": "code",
   "execution_count": 18,
   "metadata": {},
   "outputs": [
    {
     "name": "stdout",
     "output_type": "stream",
     "text": [
      "WARNING:tensorflow:From D:\\Anaconda3\\lib\\site-packages\\tensorflow\\python\\framework\\op_def_library.py:263: colocate_with (from tensorflow.python.framework.ops) is deprecated and will be removed in a future version.\n",
      "Instructions for updating:\n",
      "Colocations handled automatically by placer.\n",
      "_________________________________________________________________\n",
      "Layer (type)                 Output Shape              Param #   \n",
      "=================================================================\n",
      "dense_1 (Dense)              (None, 50)                614450    \n",
      "_________________________________________________________________\n",
      "dense_2 (Dense)              (None, 40)                2040      \n",
      "_________________________________________________________________\n",
      "dense_3 (Dense)              (None, 30)                1230      \n",
      "_________________________________________________________________\n",
      "dense_4 (Dense)              (None, 20)                620       \n",
      "_________________________________________________________________\n",
      "dense_5 (Dense)              (None, 10)                210       \n",
      "_________________________________________________________________\n",
      "dense_6 (Dense)              (None, 1)                 11        \n",
      "=================================================================\n",
      "Total params: 618,561\n",
      "Trainable params: 618,561\n",
      "Non-trainable params: 0\n",
      "_________________________________________________________________\n"
     ]
    }
   ],
   "source": [
    "model = Sequential()\n",
    "\n",
    "model.add(Dense(50, activation='relu', input_dim=train_set_x_flatten.shape[1]))\n",
    "model.add(Dense(40, activation='relu'))\n",
    "model.add(Dense(30, activation='relu'))\n",
    "model.add(Dense(20, activation='relu'))\n",
    "model.add(Dense(10, activation='relu'))\n",
    "model.add(Dense(1, activation='sigmoid'))\n",
    "model.summary()"
   ]
  },
  {
   "cell_type": "code",
   "execution_count": 19,
   "metadata": {},
   "outputs": [],
   "source": [
    "learning_rate = 0.0001\n",
    "opt = Adam(lr=learning_rate)\n",
    "model.compile(optimizer=opt,\n",
    "              loss='binary_crossentropy',\n",
    "              metrics=['accuracy'])"
   ]
  },
  {
   "cell_type": "code",
   "execution_count": 20,
   "metadata": {
    "scrolled": false
   },
   "outputs": [
    {
     "name": "stdout",
     "output_type": "stream",
     "text": [
      "WARNING:tensorflow:From D:\\Anaconda3\\lib\\site-packages\\tensorflow\\python\\ops\\math_ops.py:3066: to_int32 (from tensorflow.python.ops.math_ops) is deprecated and will be removed in a future version.\n",
      "Instructions for updating:\n",
      "Use tf.cast instead.\n",
      "Epoch 1/100\n",
      "209/209 [==============================] - 1s 3ms/step - loss: 0.6909 - acc: 0.5407\n",
      "Epoch 2/100\n",
      "209/209 [==============================] - 0s 713us/step - loss: 0.6643 - acc: 0.6555\n",
      "Epoch 3/100\n",
      "209/209 [==============================] - 0s 733us/step - loss: 0.6546 - acc: 0.6555\n",
      "Epoch 4/100\n",
      "209/209 [==============================] - 0s 627us/step - loss: 0.6490 - acc: 0.6555\n",
      "Epoch 5/100\n",
      "209/209 [==============================] - 0s 689us/step - loss: 0.6501 - acc: 0.6555\n",
      "Epoch 6/100\n",
      "209/209 [==============================] - 0s 752us/step - loss: 0.6416 - acc: 0.6555\n",
      "Epoch 7/100\n",
      "209/209 [==============================] - 0s 614us/step - loss: 0.6379 - acc: 0.6555\n",
      "Epoch 8/100\n",
      "209/209 [==============================] - 0s 655us/step - loss: 0.6418 - acc: 0.6699\n",
      "Epoch 9/100\n",
      "209/209 [==============================] - 0s 709us/step - loss: 0.6349 - acc: 0.6555\n",
      "Epoch 10/100\n",
      "209/209 [==============================] - 0s 662us/step - loss: 0.6297 - acc: 0.6555\n",
      "Epoch 11/100\n",
      "209/209 [==============================] - 0s 821us/step - loss: 0.6276 - acc: 0.6603\n",
      "Epoch 12/100\n",
      "209/209 [==============================] - 0s 891us/step - loss: 0.6256 - acc: 0.6603\n",
      "Epoch 13/100\n",
      "209/209 [==============================] - ETA: 0s - loss: 0.6228 - acc: 0.645 - 0s 891us/step - loss: 0.6189 - acc: 0.6603\n",
      "Epoch 14/100\n",
      "209/209 [==============================] - 0s 972us/step - loss: 0.6075 - acc: 0.7129\n",
      "Epoch 15/100\n",
      "209/209 [==============================] - 0s 851us/step - loss: 0.6146 - acc: 0.6555\n",
      "Epoch 16/100\n",
      "209/209 [==============================] - 0s 972us/step - loss: 0.5910 - acc: 0.6842\n",
      "Epoch 17/100\n",
      "209/209 [==============================] - 0s 934us/step - loss: 0.5874 - acc: 0.7464\n",
      "Epoch 18/100\n",
      "209/209 [==============================] - 0s 959us/step - loss: 0.5834 - acc: 0.6842\n",
      "Epoch 19/100\n",
      "209/209 [==============================] - 0s 842us/step - loss: 0.5766 - acc: 0.7368\n",
      "Epoch 20/100\n",
      "209/209 [==============================] - 0s 929us/step - loss: 0.5586 - acc: 0.7464\n",
      "Epoch 21/100\n",
      "209/209 [==============================] - 0s 924us/step - loss: 0.5539 - acc: 0.7512\n",
      "Epoch 22/100\n",
      "209/209 [==============================] - 0s 847us/step - loss: 0.5438 - acc: 0.7368\n",
      "Epoch 23/100\n",
      "209/209 [==============================] - 0s 915us/step - loss: 0.5362 - acc: 0.7751\n",
      "Epoch 24/100\n",
      "209/209 [==============================] - 0s 972us/step - loss: 0.5268 - acc: 0.7416\n",
      "Epoch 25/100\n",
      "209/209 [==============================] - 0s 895us/step - loss: 0.5348 - acc: 0.7943\n",
      "Epoch 26/100\n",
      "209/209 [==============================] - 0s 938us/step - loss: 0.5086 - acc: 0.7895\n",
      "Epoch 27/100\n",
      "209/209 [==============================] - 0s 915us/step - loss: 0.5047 - acc: 0.8038\n",
      "Epoch 28/100\n",
      "209/209 [==============================] - 0s 850us/step - loss: 0.4945 - acc: 0.8038\n",
      "Epoch 29/100\n",
      "209/209 [==============================] - 0s 881us/step - loss: 0.4863 - acc: 0.7990\n",
      "Epoch 30/100\n",
      "209/209 [==============================] - 0s 953us/step - loss: 0.4753 - acc: 0.8086\n",
      "Epoch 31/100\n",
      "209/209 [==============================] - 0s 943us/step - loss: 0.4699 - acc: 0.7990\n",
      "Epoch 32/100\n",
      "209/209 [==============================] - 0s 863us/step - loss: 0.4618 - acc: 0.8278\n",
      "Epoch 33/100\n",
      "209/209 [==============================] - 0s 910us/step - loss: 0.4551 - acc: 0.8469\n",
      "Epoch 34/100\n",
      "209/209 [==============================] - 0s 838us/step - loss: 0.4517 - acc: 0.8086\n",
      "Epoch 35/100\n",
      "209/209 [==============================] - 0s 924us/step - loss: 0.4397 - acc: 0.8469\n",
      "Epoch 36/100\n",
      "209/209 [==============================] - 0s 867us/step - loss: 0.4305 - acc: 0.8565\n",
      "Epoch 37/100\n",
      "209/209 [==============================] - 0s 847us/step - loss: 0.4238 - acc: 0.8469\n",
      "Epoch 38/100\n",
      "209/209 [==============================] - 0s 871us/step - loss: 0.4161 - acc: 0.8900\n",
      "Epoch 39/100\n",
      "209/209 [==============================] - 0s 910us/step - loss: 0.4061 - acc: 0.8756\n",
      "Epoch 40/100\n",
      "209/209 [==============================] - 0s 814us/step - loss: 0.3987 - acc: 0.8517\n",
      "Epoch 41/100\n",
      "209/209 [==============================] - 0s 832us/step - loss: 0.3886 - acc: 0.8852\n",
      "Epoch 42/100\n",
      "209/209 [==============================] - 0s 1ms/step - loss: 0.3701 - acc: 0.8900\n",
      "Epoch 43/100\n",
      "209/209 [==============================] - 0s 1ms/step - loss: 0.3575 - acc: 0.9091\n",
      "Epoch 44/100\n",
      "209/209 [==============================] - 0s 996us/step - loss: 0.3702 - acc: 0.8660\n",
      "Epoch 45/100\n",
      "209/209 [==============================] - 0s 1ms/step - loss: 0.3264 - acc: 0.9091\n",
      "Epoch 46/100\n",
      "209/209 [==============================] - 0s 1ms/step - loss: 0.3169 - acc: 0.9234\n",
      "Epoch 47/100\n",
      "209/209 [==============================] - 0s 913us/step - loss: 0.3129 - acc: 0.9282\n",
      "Epoch 48/100\n",
      "209/209 [==============================] - 0s 919us/step - loss: 0.3031 - acc: 0.9234\n",
      "Epoch 49/100\n",
      "209/209 [==============================] - 0s 780us/step - loss: 0.2882 - acc: 0.9234\n",
      "Epoch 50/100\n",
      "209/209 [==============================] - 0s 772us/step - loss: 0.2845 - acc: 0.9234\n",
      "Epoch 51/100\n",
      "209/209 [==============================] - 0s 900us/step - loss: 0.2771 - acc: 0.9282\n",
      "Epoch 52/100\n",
      "209/209 [==============================] - 0s 852us/step - loss: 0.2653 - acc: 0.9282\n",
      "Epoch 53/100\n",
      "209/209 [==============================] - 0s 862us/step - loss: 0.2538 - acc: 0.9522\n",
      "Epoch 54/100\n",
      "209/209 [==============================] - 0s 828us/step - loss: 0.2569 - acc: 0.9426\n",
      "Epoch 55/100\n",
      "209/209 [==============================] - 0s 795us/step - loss: 0.2407 - acc: 0.9426\n",
      "Epoch 56/100\n",
      "209/209 [==============================] - 0s 838us/step - loss: 0.2329 - acc: 0.9761\n",
      "Epoch 57/100\n",
      "209/209 [==============================] - 0s 809us/step - loss: 0.2308 - acc: 0.9522\n",
      "Epoch 58/100\n",
      "209/209 [==============================] - 0s 833us/step - loss: 0.2284 - acc: 0.9569\n",
      "Epoch 59/100\n",
      "209/209 [==============================] - 0s 871us/step - loss: 0.2860 - acc: 0.8995\n",
      "Epoch 60/100\n",
      "209/209 [==============================] - 0s 837us/step - loss: 0.2348 - acc: 0.9378\n",
      "Epoch 61/100\n",
      "209/209 [==============================] - 0s 862us/step - loss: 0.2223 - acc: 0.9426\n",
      "Epoch 62/100\n",
      "209/209 [==============================] - 0s 867us/step - loss: 0.2178 - acc: 0.9522\n",
      "Epoch 63/100\n",
      "209/209 [==============================] - 0s 790us/step - loss: 0.2290 - acc: 0.9330\n",
      "Epoch 64/100\n",
      "209/209 [==============================] - 0s 826us/step - loss: 0.2109 - acc: 0.9569\n",
      "Epoch 65/100\n",
      "209/209 [==============================] - 0s 857us/step - loss: 0.2121 - acc: 0.9426\n",
      "Epoch 66/100\n",
      "209/209 [==============================] - 0s 915us/step - loss: 0.1931 - acc: 0.9713 0s - loss: 0.2013 - acc: 0.96\n",
      "Epoch 67/100\n",
      "209/209 [==============================] - 0s 844us/step - loss: 0.1857 - acc: 0.9713\n",
      "Epoch 68/100\n",
      "209/209 [==============================] - 0s 886us/step - loss: 0.1758 - acc: 0.9761\n",
      "Epoch 69/100\n",
      "209/209 [==============================] - 0s 905us/step - loss: 0.1829 - acc: 0.9809\n",
      "Epoch 70/100\n",
      "209/209 [==============================] - 0s 852us/step - loss: 0.1678 - acc: 0.9761\n",
      "Epoch 71/100\n",
      "209/209 [==============================] - 0s 830us/step - loss: 0.1677 - acc: 0.9713\n",
      "Epoch 72/100\n",
      "209/209 [==============================] - 0s 834us/step - loss: 0.1575 - acc: 0.9809\n",
      "Epoch 73/100\n",
      "209/209 [==============================] - 0s 814us/step - loss: 0.1574 - acc: 0.9761\n",
      "Epoch 74/100\n",
      "209/209 [==============================] - 0s 838us/step - loss: 0.1523 - acc: 0.9809\n",
      "Epoch 75/100\n",
      "209/209 [==============================] - 0s 881us/step - loss: 0.1486 - acc: 0.9809\n",
      "Epoch 76/100\n",
      "209/209 [==============================] - 0s 910us/step - loss: 0.1471 - acc: 0.9809\n",
      "Epoch 77/100\n",
      "209/209 [==============================] - 0s 838us/step - loss: 0.1454 - acc: 0.9809\n",
      "Epoch 78/100\n",
      "209/209 [==============================] - 0s 848us/step - loss: 0.1411 - acc: 0.9809\n",
      "Epoch 79/100\n",
      "209/209 [==============================] - 0s 925us/step - loss: 0.1339 - acc: 0.9856\n",
      "Epoch 80/100\n"
     ]
    },
    {
     "name": "stdout",
     "output_type": "stream",
     "text": [
      "209/209 [==============================] - 0s 862us/step - loss: 0.1349 - acc: 0.9809\n",
      "Epoch 81/100\n",
      "209/209 [==============================] - 0s 972us/step - loss: 0.1294 - acc: 0.9856\n",
      "Epoch 82/100\n",
      "209/209 [==============================] - 0s 913us/step - loss: 0.1373 - acc: 0.9761\n",
      "Epoch 83/100\n",
      "209/209 [==============================] - 0s 781us/step - loss: 0.1266 - acc: 0.9856\n",
      "Epoch 84/100\n",
      "209/209 [==============================] - 0s 828us/step - loss: 0.1350 - acc: 0.9713\n",
      "Epoch 85/100\n",
      "209/209 [==============================] - 0s 792us/step - loss: 0.1212 - acc: 0.9761\n",
      "Epoch 86/100\n",
      "209/209 [==============================] - 0s 802us/step - loss: 0.1183 - acc: 0.9809\n",
      "Epoch 87/100\n",
      "209/209 [==============================] - 0s 809us/step - loss: 0.1123 - acc: 0.9809\n",
      "Epoch 88/100\n",
      "209/209 [==============================] - 0s 731us/step - loss: 0.1121 - acc: 0.9809\n",
      "Epoch 89/100\n",
      "209/209 [==============================] - 0s 907us/step - loss: 0.1107 - acc: 0.9856\n",
      "Epoch 90/100\n",
      "209/209 [==============================] - 0s 821us/step - loss: 0.1161 - acc: 0.9856\n",
      "Epoch 91/100\n",
      "209/209 [==============================] - 0s 766us/step - loss: 0.1044 - acc: 0.9904\n",
      "Epoch 92/100\n",
      "209/209 [==============================] - 0s 864us/step - loss: 0.1046 - acc: 0.9904\n",
      "Epoch 93/100\n",
      "209/209 [==============================] - 0s 891us/step - loss: 0.1043 - acc: 0.9856\n",
      "Epoch 94/100\n",
      "209/209 [==============================] - 0s 977us/step - loss: 0.1206 - acc: 0.9761\n",
      "Epoch 95/100\n",
      "209/209 [==============================] - 0s 929us/step - loss: 0.1362 - acc: 0.9713\n",
      "Epoch 96/100\n",
      "209/209 [==============================] - 0s 973us/step - loss: 0.1063 - acc: 0.9904\n",
      "Epoch 97/100\n",
      "209/209 [==============================] - 0s 788us/step - loss: 0.0967 - acc: 0.9904\n",
      "Epoch 98/100\n",
      "209/209 [==============================] - 0s 829us/step - loss: 0.0938 - acc: 0.9904\n",
      "Epoch 99/100\n",
      "209/209 [==============================] - 0s 807us/step - loss: 0.0903 - acc: 0.9904\n",
      "Epoch 100/100\n",
      "209/209 [==============================] - 0s 815us/step - loss: 0.0910 - acc: 0.9856\n",
      "50/50 [==============================] - 0s 2ms/step\n"
     ]
    },
    {
     "data": {
      "image/png": "[encoded data removed]",
      "text/plain": [
       "<Figure size 576x576 with 1 Axes>"
      ]
     },
     "metadata": {
      "needs_background": "light"
     },
     "output_type": "display_data"
    },
    {
     "name": "stdout",
     "output_type": "stream",
     "text": [
      "\n",
      "\n",
      "Accuracy on training set is 0.9856459330143541\n",
      "\n",
      "Accuracy on test set is 0.7599999928474426\n"
     ]
    }
   ],
   "source": [
    "h = evaluate_this_model(model)"
   ]
  },
  {
   "cell_type": "markdown",
   "metadata": {},
   "source": [
    "### 3.2 Improving the basic Model\n",
    "\n",
    "___Objective:___ Design and tune a feed forward deep learning model to achieve at least ___80% accuracy___ on this dataset."
   ]
  },
  {
   "cell_type": "code",
   "execution_count": 21,
   "metadata": {},
   "outputs": [
    {
     "name": "stdout",
     "output_type": "stream",
     "text": [
      "_________________________________________________________________\n",
      "Layer (type)                 Output Shape              Param #   \n",
      "=================================================================\n",
      "dense_7 (Dense)              (None, 50)                614450    \n",
      "_________________________________________________________________\n",
      "batch_normalization_1 (Batch (None, 50)                200       \n",
      "_________________________________________________________________\n",
      "dense_8 (Dense)              (None, 40)                2040      \n",
      "_________________________________________________________________\n",
      "batch_normalization_2 (Batch (None, 40)                160       \n",
      "_________________________________________________________________\n",
      "dense_9 (Dense)              (None, 30)                1230      \n",
      "_________________________________________________________________\n",
      "batch_normalization_3 (Batch (None, 30)                120       \n",
      "_________________________________________________________________\n",
      "dense_10 (Dense)             (None, 20)                620       \n",
      "_________________________________________________________________\n",
      "batch_normalization_4 (Batch (None, 20)                80        \n",
      "_________________________________________________________________\n",
      "dense_11 (Dense)             (None, 10)                210       \n",
      "_________________________________________________________________\n",
      "batch_normalization_5 (Batch (None, 10)                40        \n",
      "_________________________________________________________________\n",
      "dense_12 (Dense)             (None, 1)                 11        \n",
      "=================================================================\n",
      "Total params: 619,161\n",
      "Trainable params: 618,861\n",
      "Non-trainable params: 300\n",
      "_________________________________________________________________\n"
     ]
    }
   ],
   "source": [
    "from keras import regularizers\n",
    "model = Sequential()\n",
    "## Add your layers here\n",
    "model.add(Dense(50, activation='relu', input_dim=train_set_x_flatten.shape[1]))\n",
    "model.add(BatchNormalization())\n",
    "\n",
    "model.add(Dense(40, activation='relu'))\n",
    "model.add(BatchNormalization())\n",
    "\n",
    "model.add(Dense(30, activation='relu'))\n",
    "model.add(BatchNormalization())\n",
    "\n",
    "model.add(Dense(20, activation='relu'))\n",
    "model.add(BatchNormalization())\n",
    "\n",
    "model.add(Dense(10, activation='relu'))\n",
    "model.add(BatchNormalization())\n",
    "\n",
    "model.add(Dense(1, activation='sigmoid'))\n",
    "model.summary()"
   ]
  },
  {
   "cell_type": "code",
   "execution_count": 22,
   "metadata": {},
   "outputs": [],
   "source": [
    "learning_rate = 0.0001\n",
    "opt = Adam(lr=learning_rate)\n",
    "model.compile(optimizer=opt,\n",
    "              loss='binary_crossentropy',\n",
    "              metrics=['accuracy'])"
   ]
  },
  {
   "cell_type": "code",
   "execution_count": 23,
   "metadata": {
    "scrolled": true
   },
   "outputs": [
    {
     "name": "stdout",
     "output_type": "stream",
     "text": [
      "Epoch 1/100\n",
      "209/209 [==============================] - 2s 9ms/step - loss: 0.9942 - acc: 0.4689\n",
      "Epoch 2/100\n",
      "209/209 [==============================] - 0s 886us/step - loss: 0.7880 - acc: 0.5407\n",
      "Epoch 3/100\n",
      "209/209 [==============================] - 0s 952us/step - loss: 0.7009 - acc: 0.6316\n",
      "Epoch 4/100\n",
      "209/209 [==============================] - 0s 996us/step - loss: 0.6365 - acc: 0.6699\n",
      "Epoch 5/100\n",
      "209/209 [==============================] - 0s 876us/step - loss: 0.5913 - acc: 0.6507\n",
      "Epoch 6/100\n",
      "209/209 [==============================] - 0s 871us/step - loss: 0.5662 - acc: 0.6842 0s - loss: 0.6370 - acc: 0.61\n",
      "Epoch 7/100\n",
      "209/209 [==============================] - 0s 900us/step - loss: 0.5296 - acc: 0.7273 0s - loss: 0.5730 - acc: 0.68\n",
      "Epoch 8/100\n",
      "209/209 [==============================] - 0s 915us/step - loss: 0.4718 - acc: 0.7560\n",
      "Epoch 9/100\n",
      "209/209 [==============================] - 0s 873us/step - loss: 0.4318 - acc: 0.7990\n",
      "Epoch 10/100\n",
      "209/209 [==============================] - 0s 886us/step - loss: 0.4208 - acc: 0.8278\n",
      "Epoch 11/100\n",
      "209/209 [==============================] - 0s 915us/step - loss: 0.3820 - acc: 0.8278\n",
      "Epoch 12/100\n",
      "209/209 [==============================] - 0s 810us/step - loss: 0.4104 - acc: 0.8278\n",
      "Epoch 13/100\n",
      "209/209 [==============================] - 0s 823us/step - loss: 0.3859 - acc: 0.8517\n",
      "Epoch 14/100\n",
      "209/209 [==============================] - 0s 872us/step - loss: 0.3936 - acc: 0.8708\n",
      "Epoch 15/100\n",
      "209/209 [==============================] - 0s 840us/step - loss: 0.3739 - acc: 0.8421\n",
      "Epoch 16/100\n",
      "209/209 [==============================] - 0s 881us/step - loss: 0.3451 - acc: 0.8660\n",
      "Epoch 17/100\n",
      "209/209 [==============================] - 0s 781us/step - loss: 0.3571 - acc: 0.8852\n",
      "Epoch 18/100\n",
      "209/209 [==============================] - 0s 838us/step - loss: 0.3385 - acc: 0.9043\n",
      "Epoch 19/100\n",
      "209/209 [==============================] - 0s 833us/step - loss: 0.3074 - acc: 0.9330\n",
      "Epoch 20/100\n",
      "209/209 [==============================] - 0s 934us/step - loss: 0.3138 - acc: 0.8995\n",
      "Epoch 21/100\n",
      "209/209 [==============================] - 0s 915us/step - loss: 0.2929 - acc: 0.9043\n",
      "Epoch 22/100\n",
      "209/209 [==============================] - 0s 900us/step - loss: 0.2936 - acc: 0.9282\n",
      "Epoch 23/100\n",
      "209/209 [==============================] - 0s 1ms/step - loss: 0.3007 - acc: 0.9139\n",
      "Epoch 24/100\n",
      "209/209 [==============================] - 0s 846us/step - loss: 0.3204 - acc: 0.9091\n",
      "Epoch 25/100\n",
      "209/209 [==============================] - 0s 984us/step - loss: 0.2971 - acc: 0.9139\n",
      "Epoch 26/100\n",
      "209/209 [==============================] - 0s 966us/step - loss: 0.3061 - acc: 0.8995\n",
      "Epoch 27/100\n",
      "209/209 [==============================] - 0s 879us/step - loss: 0.3138 - acc: 0.8947\n",
      "Epoch 28/100\n",
      "209/209 [==============================] - 0s 1ms/step - loss: 0.2929 - acc: 0.9091\n",
      "Epoch 29/100\n",
      "209/209 [==============================] - 0s 956us/step - loss: 0.2905 - acc: 0.9474\n",
      "Epoch 30/100\n",
      "209/209 [==============================] - 0s 924us/step - loss: 0.2797 - acc: 0.9234\n",
      "Epoch 31/100\n",
      "209/209 [==============================] - 0s 948us/step - loss: 0.2556 - acc: 0.9569\n",
      "Epoch 32/100\n",
      "209/209 [==============================] - 0s 904us/step - loss: 0.2594 - acc: 0.9139\n",
      "Epoch 33/100\n",
      "209/209 [==============================] - 0s 924us/step - loss: 0.2635 - acc: 0.9474\n",
      "Epoch 34/100\n",
      "209/209 [==============================] - 0s 924us/step - loss: 0.2780 - acc: 0.9234\n",
      "Epoch 35/100\n",
      "209/209 [==============================] - 0s 892us/step - loss: 0.2671 - acc: 0.9234\n",
      "Epoch 36/100\n",
      "209/209 [==============================] - 0s 910us/step - loss: 0.2464 - acc: 0.9522\n",
      "Epoch 37/100\n",
      "209/209 [==============================] - 0s 900us/step - loss: 0.2394 - acc: 0.9522\n",
      "Epoch 38/100\n",
      "209/209 [==============================] - 0s 843us/step - loss: 0.2235 - acc: 0.9665\n",
      "Epoch 39/100\n",
      "209/209 [==============================] - 0s 896us/step - loss: 0.2376 - acc: 0.9665\n",
      "Epoch 40/100\n",
      "209/209 [==============================] - 0s 895us/step - loss: 0.2335 - acc: 0.9617\n",
      "Epoch 41/100\n",
      "209/209 [==============================] - 0s 919us/step - loss: 0.2240 - acc: 0.9713\n",
      "Epoch 42/100\n",
      "209/209 [==============================] - 0s 972us/step - loss: 0.2425 - acc: 0.9378\n",
      "Epoch 43/100\n",
      "209/209 [==============================] - 0s 876us/step - loss: 0.2224 - acc: 0.9665\n",
      "Epoch 44/100\n",
      "209/209 [==============================] - ETA: 0s - loss: 0.2329 - acc: 0.953 - 0s 871us/step - loss: 0.2289 - acc: 0.9569\n",
      "Epoch 45/100\n",
      "209/209 [==============================] - 0s 977us/step - loss: 0.2145 - acc: 0.9856\n",
      "Epoch 46/100\n",
      "209/209 [==============================] - 0s 936us/step - loss: 0.2134 - acc: 0.9665\n",
      "Epoch 47/100\n",
      "209/209 [==============================] - 0s 882us/step - loss: 0.2249 - acc: 0.9522\n",
      "Epoch 48/100\n",
      "209/209 [==============================] - 0s 938us/step - loss: 0.1838 - acc: 0.9952\n",
      "Epoch 49/100\n",
      "209/209 [==============================] - 0s 853us/step - loss: 0.1979 - acc: 0.9761\n",
      "Epoch 50/100\n",
      "209/209 [==============================] - 0s 919us/step - loss: 0.1959 - acc: 0.9761\n",
      "Epoch 51/100\n",
      "209/209 [==============================] - 0s 929us/step - loss: 0.1929 - acc: 0.9856\n",
      "Epoch 52/100\n",
      "209/209 [==============================] - 0s 929us/step - loss: 0.1965 - acc: 0.9713\n",
      "Epoch 53/100\n",
      "209/209 [==============================] - 0s 962us/step - loss: 0.2095 - acc: 0.9617\n",
      "Epoch 54/100\n",
      "209/209 [==============================] - 0s 919us/step - loss: 0.2008 - acc: 0.9713\n",
      "Epoch 55/100\n",
      "209/209 [==============================] - 0s 972us/step - loss: 0.1940 - acc: 0.9665\n",
      "Epoch 56/100\n",
      "209/209 [==============================] - 0s 930us/step - loss: 0.2001 - acc: 0.9904\n",
      "Epoch 57/100\n",
      "209/209 [==============================] - 0s 997us/step - loss: 0.1946 - acc: 0.9665\n",
      "Epoch 58/100\n",
      "209/209 [==============================] - 0s 972us/step - loss: 0.1816 - acc: 0.9856\n",
      "Epoch 59/100\n",
      "209/209 [==============================] - 0s 934us/step - loss: 0.1877 - acc: 0.9761\n",
      "Epoch 60/100\n",
      "209/209 [==============================] - 0s 929us/step - loss: 0.1720 - acc: 0.9856\n",
      "Epoch 61/100\n",
      "209/209 [==============================] - 0s 934us/step - loss: 0.1801 - acc: 0.9856\n",
      "Epoch 62/100\n",
      "209/209 [==============================] - 0s 948us/step - loss: 0.2013 - acc: 0.9569\n",
      "Epoch 63/100\n",
      "209/209 [==============================] - 0s 969us/step - loss: 0.1707 - acc: 0.9809\n",
      "Epoch 64/100\n",
      "209/209 [==============================] - 0s 895us/step - loss: 0.1949 - acc: 0.9713\n",
      "Epoch 65/100\n",
      "209/209 [==============================] - 0s 1ms/step - loss: 0.1825 - acc: 0.9761\n",
      "Epoch 66/100\n",
      "209/209 [==============================] - 0s 927us/step - loss: 0.1845 - acc: 0.9665\n",
      "Epoch 67/100\n",
      "209/209 [==============================] - 0s 900us/step - loss: 0.1697 - acc: 0.9952\n",
      "Epoch 68/100\n",
      "209/209 [==============================] - 0s 859us/step - loss: 0.1690 - acc: 0.9904\n",
      "Epoch 69/100\n",
      "209/209 [==============================] - 0s 900us/step - loss: 0.1845 - acc: 0.9665\n",
      "Epoch 70/100\n",
      "209/209 [==============================] - 0s 919us/step - loss: 0.1679 - acc: 0.9761\n",
      "Epoch 71/100\n",
      "209/209 [==============================] - 0s 891us/step - loss: 0.1751 - acc: 0.9809\n",
      "Epoch 72/100\n",
      "209/209 [==============================] - 0s 972us/step - loss: 0.1695 - acc: 0.9761\n",
      "Epoch 73/100\n",
      "209/209 [==============================] - 0s 867us/step - loss: 0.1680 - acc: 0.9809\n",
      "Epoch 74/100\n",
      "209/209 [==============================] - 0s 880us/step - loss: 0.1719 - acc: 0.9761\n",
      "Epoch 75/100\n",
      "209/209 [==============================] - 0s 953us/step - loss: 0.1841 - acc: 0.9713\n",
      "Epoch 76/100\n",
      "209/209 [==============================] - 0s 938us/step - loss: 0.1698 - acc: 0.9904\n",
      "Epoch 77/100\n",
      "209/209 [==============================] - 0s 910us/step - loss: 0.2196 - acc: 0.9474\n",
      "Epoch 78/100\n",
      "209/209 [==============================] - 0s 1ms/step - loss: 0.1851 - acc: 0.9617\n",
      "Epoch 79/100\n",
      "209/209 [==============================] - 0s 1ms/step - loss: 0.1707 - acc: 0.9569\n",
      "Epoch 80/100\n",
      "209/209 [==============================] - 0s 973us/step - loss: 0.1694 - acc: 0.9665\n",
      "Epoch 81/100\n",
      "209/209 [==============================] - 0s 1ms/step - loss: 0.1792 - acc: 0.9713\n",
      "Epoch 82/100\n",
      "209/209 [==============================] - 0s 1ms/step - loss: 0.1885 - acc: 0.9617\n",
      "Epoch 83/100\n"
     ]
    },
    {
     "name": "stdout",
     "output_type": "stream",
     "text": [
      "209/209 [==============================] - 0s 1ms/step - loss: 0.1694 - acc: 0.9713\n",
      "Epoch 84/100\n",
      "209/209 [==============================] - 0s 894us/step - loss: 0.1595 - acc: 0.9809\n",
      "Epoch 85/100\n",
      "209/209 [==============================] - 0s 1ms/step - loss: 0.1508 - acc: 0.9856\n",
      "Epoch 86/100\n",
      "209/209 [==============================] - 0s 812us/step - loss: 0.1678 - acc: 0.9761\n",
      "Epoch 87/100\n",
      "209/209 [==============================] - 0s 824us/step - loss: 0.1755 - acc: 0.9809\n",
      "Epoch 88/100\n",
      "209/209 [==============================] - 0s 836us/step - loss: 0.1711 - acc: 0.9809\n",
      "Epoch 89/100\n",
      "209/209 [==============================] - 0s 919us/step - loss: 0.1534 - acc: 0.9904\n",
      "Epoch 90/100\n",
      "209/209 [==============================] - 0s 871us/step - loss: 0.1959 - acc: 0.9665\n",
      "Epoch 91/100\n",
      "209/209 [==============================] - 0s 1ms/step - loss: 0.1722 - acc: 0.9761\n",
      "Epoch 92/100\n",
      "209/209 [==============================] - 0s 829us/step - loss: 0.1746 - acc: 0.9809\n",
      "Epoch 93/100\n",
      "209/209 [==============================] - 0s 910us/step - loss: 0.1658 - acc: 0.9761\n",
      "Epoch 94/100\n",
      "209/209 [==============================] - 0s 919us/step - loss: 0.1561 - acc: 0.9809\n",
      "Epoch 95/100\n",
      "209/209 [==============================] - 0s 862us/step - loss: 0.1582 - acc: 0.9809\n",
      "Epoch 96/100\n",
      "209/209 [==============================] - 0s 824us/step - loss: 0.1618 - acc: 0.9713\n",
      "Epoch 97/100\n",
      "209/209 [==============================] - 0s 891us/step - loss: 0.1473 - acc: 0.9856\n",
      "Epoch 98/100\n",
      "209/209 [==============================] - 0s 996us/step - loss: 0.1379 - acc: 1.0000\n",
      "Epoch 99/100\n",
      "209/209 [==============================] - 0s 972us/step - loss: 0.1421 - acc: 0.9761\n",
      "Epoch 100/100\n",
      "209/209 [==============================] - 0s 843us/step - loss: 0.1332 - acc: 0.9856\n",
      "50/50 [==============================] - 0s 6ms/step\n"
     ]
    },
    {
     "data": {
      "image/png": "[encoded data removed]",
      "text/plain": [
       "<Figure size 576x576 with 1 Axes>"
      ]
     },
     "metadata": {
      "needs_background": "light"
     },
     "output_type": "display_data"
    },
    {
     "name": "stdout",
     "output_type": "stream",
     "text": [
      "\n",
      "\n",
      "Accuracy on training set is 0.9856459335847334\n",
      "\n",
      "Accuracy on test set is 0.8199999928474426\n"
     ]
    }
   ],
   "source": [
    "h = evaluate_this_model(model)"
   ]
  },
  {
   "cell_type": "code",
   "execution_count": null,
   "metadata": {},
   "outputs": [],
   "source": []
  }
 ],
 "metadata": {
  "kernelspec": {
   "display_name": "Python 3",
   "language": "python",
   "name": "python3"
  },
  "language_info": {
   "codemirror_mode": {
    "name": "ipython",
    "version": 3
   },
   "file_extension": ".py",
   "mimetype": "text/x-python",
   "name": "python",
   "nbconvert_exporter": "python",
   "pygments_lexer": "ipython3",
   "version": "3.7.6"
  }
 },
 "nbformat": 4,
 "nbformat_minor": 2
}
