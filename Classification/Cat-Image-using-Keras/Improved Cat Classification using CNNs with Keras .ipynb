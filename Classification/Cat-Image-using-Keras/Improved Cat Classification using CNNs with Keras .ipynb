{
 "cells": [
  {
   "cell_type": "code",
   "execution_count": 1,
   "metadata": {},
   "outputs": [
    {
     "name": "stderr",
     "output_type": "stream",
     "text": [
      "D:\\Anaconda3\\lib\\site-packages\\tensorflow\\python\\framework\\dtypes.py:526: FutureWarning: Passing (type, 1) or '1type' as a synonym of type is deprecated; in a future version of numpy, it will be understood as (type, (1,)) / '(1,)type'.\n",
      "  _np_qint8 = np.dtype([(\"qint8\", np.int8, 1)])\n",
      "D:\\Anaconda3\\lib\\site-packages\\tensorflow\\python\\framework\\dtypes.py:527: FutureWarning: Passing (type, 1) or '1type' as a synonym of type is deprecated; in a future version of numpy, it will be understood as (type, (1,)) / '(1,)type'.\n",
      "  _np_quint8 = np.dtype([(\"quint8\", np.uint8, 1)])\n",
      "D:\\Anaconda3\\lib\\site-packages\\tensorflow\\python\\framework\\dtypes.py:528: FutureWarning: Passing (type, 1) or '1type' as a synonym of type is deprecated; in a future version of numpy, it will be understood as (type, (1,)) / '(1,)type'.\n",
      "  _np_qint16 = np.dtype([(\"qint16\", np.int16, 1)])\n",
      "D:\\Anaconda3\\lib\\site-packages\\tensorflow\\python\\framework\\dtypes.py:529: FutureWarning: Passing (type, 1) or '1type' as a synonym of type is deprecated; in a future version of numpy, it will be understood as (type, (1,)) / '(1,)type'.\n",
      "  _np_quint16 = np.dtype([(\"quint16\", np.uint16, 1)])\n",
      "D:\\Anaconda3\\lib\\site-packages\\tensorflow\\python\\framework\\dtypes.py:530: FutureWarning: Passing (type, 1) or '1type' as a synonym of type is deprecated; in a future version of numpy, it will be understood as (type, (1,)) / '(1,)type'.\n",
      "  _np_qint32 = np.dtype([(\"qint32\", np.int32, 1)])\n",
      "D:\\Anaconda3\\lib\\site-packages\\tensorflow\\python\\framework\\dtypes.py:535: FutureWarning: Passing (type, 1) or '1type' as a synonym of type is deprecated; in a future version of numpy, it will be understood as (type, (1,)) / '(1,)type'.\n",
      "  np_resource = np.dtype([(\"resource\", np.ubyte, 1)])\n"
     ]
    },
    {
     "name": "stdout",
     "output_type": "stream",
     "text": [
      "Tensorflow Version:  1.13.2\n",
      "Keras Version:  2.2.4\n"
     ]
    },
    {
     "name": "stderr",
     "output_type": "stream",
     "text": [
      "Using TensorFlow backend.\n"
     ]
    }
   ],
   "source": [
    "import tensorflow as tf;\n",
    "print(\"Tensorflow Version: \",tf.__version__)\n",
    "\n",
    "import keras as keras\n",
    "print(\"Keras Version: \",keras.__version__)"
   ]
  },
  {
   "cell_type": "code",
   "execution_count": 2,
   "metadata": {},
   "outputs": [],
   "source": [
    "from keras.models import Sequential\n",
    "from keras.layers import Dense, Conv2D, Flatten, MaxPooling2D, Activation\n",
    "from keras.optimizers import Adam\n",
    "import numpy as np\n",
    "import pandas as pd\n",
    "import matplotlib.pyplot as plt\n",
    "import h5py\n",
    "\n",
    "%matplotlib inline\n",
    "np.random.seed(1)"
   ]
  },
  {
   "cell_type": "code",
   "execution_count": 3,
   "metadata": {},
   "outputs": [],
   "source": [
    "plt.rcParams['figure.figsize'] = (8.0, 8.0) # set default size of plots\n",
    "plt.rcParams['image.interpolation'] = 'nearest'\n",
    "plt.rcParams['image.cmap'] = 'gray'\n",
    "\n",
    "np.random.seed(1)"
   ]
  },
  {
   "cell_type": "markdown",
   "metadata": {},
   "source": [
    "## 1 - Overview of the data set\n",
    "\n",
    "First of all, we'll load the data. After loading, here's a basic overview;\n",
    "\n",
    "- a training set of m_train images labeled as cat (y=1) or non-cat (y=0)\n",
    "- a test set of m_test images labeled as cat or non-cat\n",
    "- each image is of shape (num_px, num_px, 3) where 3 is for the 3 channels (RGB). Thus, each image is square (height = num_px) and (width = num_px)."
   ]
  },
  {
   "cell_type": "code",
   "execution_count": 4,
   "metadata": {},
   "outputs": [],
   "source": [
    "train_dataset = h5py.File('./data/train.h5', \"r\")\n",
    "train_set_x_orig = np.array(train_dataset[\"train_set_x\"][:]) # train set features\n",
    "train_set_y_orig = np.array(train_dataset[\"train_set_y\"][:]) # train set labels\n",
    "\n",
    "test_dataset = h5py.File('./data/test.h5', \"r\")\n",
    "test_set_x_orig = np.array(test_dataset[\"test_set_x\"][:]) # test set features\n",
    "test_set_y_orig = np.array(test_dataset[\"test_set_y\"][:]) # test set labels"
   ]
  },
  {
   "cell_type": "code",
   "execution_count": 5,
   "metadata": {},
   "outputs": [
    {
     "data": {
      "text/plain": [
       "array([b'non-cat', b'cat'], dtype='|S7')"
      ]
     },
     "execution_count": 5,
     "metadata": {},
     "output_type": "execute_result"
    }
   ],
   "source": [
    "classes = np.array(test_dataset[\"list_classes\"][:]) # the list of classes\n",
    "classes"
   ]
  },
  {
   "cell_type": "code",
   "execution_count": 6,
   "metadata": {},
   "outputs": [
    {
     "name": "stdout",
     "output_type": "stream",
     "text": [
      "(1, 209)\n",
      "(1, 50)\n"
     ]
    }
   ],
   "source": [
    "train_set_y = train_set_y_orig.reshape((1, train_set_y_orig.shape[0]))\n",
    "test_set_y = test_set_y_orig.reshape((1, test_set_y_orig.shape[0]))\n",
    "print(train_set_y.shape)\n",
    "print(test_set_y.shape)"
   ]
  },
  {
   "cell_type": "markdown",
   "metadata": {},
   "source": [
    "Each line of train_set_x_orig and test_set_x_orig is an array representing an image. You can visualize an example by running the following code. Feel free also to change the index value and re-run to see other images."
   ]
  },
  {
   "cell_type": "code",
   "execution_count": 7,
   "metadata": {},
   "outputs": [
    {
     "name": "stdout",
     "output_type": "stream",
     "text": [
      "y = [1], it's a 'cat' picture.\n"
     ]
    },
    {
     "data": {
      "image/png": "[encoded data removed]",
      "text/plain": [
       "<Figure size 576x576 with 1 Axes>"
      ]
     },
     "metadata": {
      "needs_background": "light"
     },
     "output_type": "display_data"
    }
   ],
   "source": [
    "# Example of a picture\n",
    "index = 60\n",
    "plt.imshow(train_set_x_orig[index])\n",
    "print (\"y = \" + str(train_set_y[:, index]) + \", it's a '\" + classes[np.squeeze(train_set_y[:, index])].decode(\"utf-8\") +  \"' picture.\")"
   ]
  },
  {
   "cell_type": "markdown",
   "metadata": {},
   "source": [
    "# 2 - Data preprocessing\n",
    "\n",
    "Following are the steps to preprocess data for a ConvNet.\n",
    "\n",
    "- Figure out the dimensions and shapes of the problem (m_train, m_test, num_px, ...)\n",
    "- \"Standardize\" the data\n",
    "- Data Augmentation (will discuss later in the course)\n",
    "\n",
    "Many software bugs in deep learning come from having matrix/vector dimensions that don't fit. If you can keep your matrix/vector dimensions straight you will go a long way toward eliminating many bugs."
   ]
  },
  {
   "cell_type": "markdown",
   "metadata": {},
   "source": [
    "### 2.1 Dimensions of our data"
   ]
  },
  {
   "cell_type": "code",
   "execution_count": 8,
   "metadata": {},
   "outputs": [
    {
     "name": "stdout",
     "output_type": "stream",
     "text": [
      "Dataset dimensions:\n",
      "Number of training examples: m_train = 209\n",
      "Number of testing examples: m_test = 50\n",
      "Height/Width of each image: num_px = 64\n",
      "Each image is of size: (64, 64, 3)\n"
     ]
    }
   ],
   "source": [
    "m_train = train_set_x_orig.shape[0]\n",
    "m_test = test_set_x_orig.shape[0]\n",
    "num_px = train_set_x_orig.shape[1]\n",
    "\n",
    "print (\"Dataset dimensions:\")\n",
    "print (\"Number of training examples: m_train = \" + str(m_train))\n",
    "print (\"Number of testing examples: m_test = \" + str(m_test))\n",
    "print (\"Height/Width of each image: num_px = \" + str(num_px))\n",
    "print (\"Each image is of size: (\" + str(num_px) + \", \" + str(num_px) + \", 3)\")"
   ]
  },
  {
   "cell_type": "code",
   "execution_count": 9,
   "metadata": {},
   "outputs": [],
   "source": [
    "train_set_y = train_set_y.T\n",
    "test_set_y = test_set_y.T"
   ]
  },
  {
   "cell_type": "code",
   "execution_count": 10,
   "metadata": {},
   "outputs": [
    {
     "name": "stdout",
     "output_type": "stream",
     "text": [
      "train_set_x shape: (209, 64, 64, 3)\n",
      "train_set_y shape: (209, 1)\n",
      "test_set_x shape: (50, 64, 64, 3)\n",
      "test_set_y shape: (50, 1)\n"
     ]
    }
   ],
   "source": [
    "print (\"train_set_x shape: \" + str(train_set_x_orig.shape))\n",
    "print (\"train_set_y shape: \" + str(train_set_y.shape))\n",
    "print (\"test_set_x shape: \" + str(test_set_x_orig.shape))\n",
    "print (\"test_set_y shape: \" + str(test_set_y.shape))"
   ]
  },
  {
   "cell_type": "markdown",
   "metadata": {},
   "source": [
    "### 2.3 Standardizing data\n",
    "\n",
    "One common preprocessing step in machine learning is to center and standardize your dataset, meaning that you substract the mean of the whole numpy array from each example, and then divide each example by the standard deviation of the whole numpy array. But for picture datasets, it is simpler and more convenient and works almost as well to just divide every row of the dataset by 255 (the maximum value of a pixel channel).\n",
    "\n",
    "Let's standardize our dataset."
   ]
  },
  {
   "cell_type": "code",
   "execution_count": 11,
   "metadata": {},
   "outputs": [],
   "source": [
    "train_set_x = train_set_x_orig/255.\n",
    "test_set_x = test_set_x_orig/255."
   ]
  },
  {
   "cell_type": "code",
   "execution_count": 12,
   "metadata": {},
   "outputs": [
    {
     "data": {
      "text/plain": [
       "(209, 64, 64, 3)"
      ]
     },
     "execution_count": 12,
     "metadata": {},
     "output_type": "execute_result"
    }
   ],
   "source": [
    "train_set_x.shape"
   ]
  },
  {
   "cell_type": "markdown",
   "metadata": {},
   "source": [
    "## 3 - Modeling"
   ]
  },
  {
   "cell_type": "markdown",
   "metadata": {},
   "source": [
    "### 3.1 Utility function to train & evaluate our models."
   ]
  },
  {
   "cell_type": "code",
   "execution_count": 13,
   "metadata": {},
   "outputs": [],
   "source": [
    "# Utility function\n",
    "def evaluate_this_model(model, epochs):\n",
    "    \n",
    "    np.random.seed(1)\n",
    "\n",
    "    history = model.fit(train_set_x, train_set_y,epochs=epochs)\n",
    "    results = model.evaluate(test_set_x, test_set_y)\n",
    "    \n",
    "    plt.plot(np.squeeze(history.history[\"loss\"]))\n",
    "    plt.ylabel('cost')\n",
    "    plt.xlabel('iterations (per tens)')\n",
    "    plt.title(\"Learning rate =\" + str(learning_rate))\n",
    "    plt.show()\n",
    "    \n",
    "    print(\"\\n\\nAccuracy on training set is {}\".format(history.history[\"acc\"][-1]))\n",
    "    print(\"\\nAccuracy on test set is {}\".format(results[1]))"
   ]
  },
  {
   "cell_type": "markdown",
   "metadata": {},
   "source": [
    "### 3.2 Model Architecture"
   ]
  },
  {
   "cell_type": "code",
   "execution_count": 14,
   "metadata": {},
   "outputs": [
    {
     "name": "stdout",
     "output_type": "stream",
     "text": [
      "WARNING:tensorflow:From D:\\Anaconda3\\lib\\site-packages\\tensorflow\\python\\framework\\op_def_library.py:263: colocate_with (from tensorflow.python.framework.ops) is deprecated and will be removed in a future version.\n",
      "Instructions for updating:\n",
      "Colocations handled automatically by placer.\n"
     ]
    },
    {
     "name": "stderr",
     "output_type": "stream",
     "text": [
      "D:\\Anaconda3\\lib\\site-packages\\ipykernel_launcher.py:3: UserWarning: Update your `Conv2D` call to the Keras 2 API: `Conv2D(10, (3, 3), activation=\"relu\", input_shape=(64, 64, 3...)`\n",
      "  This is separate from the ipykernel package so we can avoid doing imports until\n",
      "D:\\Anaconda3\\lib\\site-packages\\ipykernel_launcher.py:7: UserWarning: Update your `Conv2D` call to the Keras 2 API: `Conv2D(15, (3, 3), activation=\"relu\")`\n",
      "  import sys\n",
      "D:\\Anaconda3\\lib\\site-packages\\ipykernel_launcher.py:10: UserWarning: Update your `Conv2D` call to the Keras 2 API: `Conv2D(20, (3, 3), activation=\"relu\")`\n",
      "  # Remove the CWD from sys.path while we load stuff.\n"
     ]
    }
   ],
   "source": [
    "model = Sequential()\n",
    "\n",
    "model.add(Conv2D(10,nb_row=3, nb_col=3, activation='relu', input_shape=(64,64,3)))\n",
    "#model.add(Conv2D(10, kernel_size=3, activation= 'relu', input_shape=train_set_x.shape[1:]  ))\n",
    "model.add(MaxPooling2D(pool_size=(2,2), strides=(2,2)))\n",
    "\n",
    "model.add(Conv2D(15, nb_row=3, nb_col=3, activation='relu'))\n",
    "model.add(MaxPooling2D(pool_size=(2,2), strides=(2,2)))\n",
    "\n",
    "model.add(Conv2D(20,nb_row=3, nb_col=3, activation='relu'))\n",
    "model.add(MaxPooling2D(pool_size=(2,2), strides=(2,2)))\n",
    "\n",
    "model.add(Flatten())\n",
    "model.add(Dense(35, activation='relu'))\n",
    "model.add(Dense(15, activation='relu'))\n",
    "model.add(Dense(1, activation='sigmoid'))\n",
    "\n",
    "\n"
   ]
  },
  {
   "cell_type": "markdown",
   "metadata": {},
   "source": [
    "### 3.3 Compilation"
   ]
  },
  {
   "cell_type": "code",
   "execution_count": 15,
   "metadata": {},
   "outputs": [],
   "source": [
    "learning_rate = 0.0001\n",
    "opt = Adam(lr=learning_rate)\n",
    "model.compile(optimizer=opt,\n",
    "              loss='binary_crossentropy',\n",
    "              metrics=['accuracy'])"
   ]
  },
  {
   "cell_type": "code",
   "execution_count": 16,
   "metadata": {},
   "outputs": [
    {
     "name": "stdout",
     "output_type": "stream",
     "text": [
      "_________________________________________________________________\n",
      "Layer (type)                 Output Shape              Param #   \n",
      "=================================================================\n",
      "conv2d_1 (Conv2D)            (None, 62, 62, 10)        280       \n",
      "_________________________________________________________________\n",
      "max_pooling2d_1 (MaxPooling2 (None, 31, 31, 10)        0         \n",
      "_________________________________________________________________\n",
      "conv2d_2 (Conv2D)            (None, 29, 29, 15)        1365      \n",
      "_________________________________________________________________\n",
      "max_pooling2d_2 (MaxPooling2 (None, 14, 14, 15)        0         \n",
      "_________________________________________________________________\n",
      "conv2d_3 (Conv2D)            (None, 12, 12, 20)        2720      \n",
      "_________________________________________________________________\n",
      "max_pooling2d_3 (MaxPooling2 (None, 6, 6, 20)          0         \n",
      "_________________________________________________________________\n",
      "flatten_1 (Flatten)          (None, 720)               0         \n",
      "_________________________________________________________________\n",
      "dense_1 (Dense)              (None, 35)                25235     \n",
      "_________________________________________________________________\n",
      "dense_2 (Dense)              (None, 15)                540       \n",
      "_________________________________________________________________\n",
      "dense_3 (Dense)              (None, 1)                 16        \n",
      "=================================================================\n",
      "Total params: 30,156\n",
      "Trainable params: 30,156\n",
      "Non-trainable params: 0\n",
      "_________________________________________________________________\n"
     ]
    }
   ],
   "source": [
    "model.summary()"
   ]
  },
  {
   "cell_type": "code",
   "execution_count": 17,
   "metadata": {
    "scrolled": false
   },
   "outputs": [
    {
     "name": "stdout",
     "output_type": "stream",
     "text": [
      "WARNING:tensorflow:From D:\\Anaconda3\\lib\\site-packages\\tensorflow\\python\\ops\\math_ops.py:3066: to_int32 (from tensorflow.python.ops.math_ops) is deprecated and will be removed in a future version.\n",
      "Instructions for updating:\n",
      "Use tf.cast instead.\n",
      "Epoch 1/100\n",
      "209/209 [==============================] - 1s 6ms/step - loss: 0.6851 - acc: 0.5837\n",
      "Epoch 2/100\n",
      "209/209 [==============================] - 1s 3ms/step - loss: 0.6683 - acc: 0.6411\n",
      "Epoch 3/100\n",
      "209/209 [==============================] - 1s 3ms/step - loss: 0.6589 - acc: 0.6411\n",
      "Epoch 4/100\n",
      "209/209 [==============================] - 1s 4ms/step - loss: 0.6532 - acc: 0.6555\n",
      "Epoch 5/100\n",
      "209/209 [==============================] - 1s 5ms/step - loss: 0.6480 - acc: 0.6555\n",
      "Epoch 6/100\n",
      "209/209 [==============================] - 1s 4ms/step - loss: 0.6451 - acc: 0.6555\n",
      "Epoch 7/100\n",
      "209/209 [==============================] - 1s 4ms/step - loss: 0.6428 - acc: 0.6555\n",
      "Epoch 8/100\n",
      "209/209 [==============================] - 1s 5ms/step - loss: 0.6412 - acc: 0.6555\n",
      "Epoch 9/100\n",
      "209/209 [==============================] - 1s 4ms/step - loss: 0.6400 - acc: 0.6555\n",
      "Epoch 10/100\n",
      "209/209 [==============================] - 1s 4ms/step - loss: 0.6414 - acc: 0.6555\n",
      "Epoch 11/100\n",
      "209/209 [==============================] - 1s 5ms/step - loss: 0.6378 - acc: 0.6555\n",
      "Epoch 12/100\n",
      "209/209 [==============================] - 1s 5ms/step - loss: 0.6362 - acc: 0.6555\n",
      "Epoch 13/100\n",
      "209/209 [==============================] - 1s 5ms/step - loss: 0.6347 - acc: 0.6555\n",
      "Epoch 14/100\n",
      "209/209 [==============================] - 1s 4ms/step - loss: 0.6327 - acc: 0.6555\n",
      "Epoch 15/100\n",
      "209/209 [==============================] - 1s 4ms/step - loss: 0.6298 - acc: 0.6555\n",
      "Epoch 16/100\n",
      "209/209 [==============================] - 1s 4ms/step - loss: 0.6267 - acc: 0.6555\n",
      "Epoch 17/100\n",
      "209/209 [==============================] - 1s 4ms/step - loss: 0.6235 - acc: 0.6555\n",
      "Epoch 18/100\n",
      "209/209 [==============================] - 1s 4ms/step - loss: 0.6192 - acc: 0.6555\n",
      "Epoch 19/100\n",
      "209/209 [==============================] - 1s 4ms/step - loss: 0.6174 - acc: 0.6555\n",
      "Epoch 20/100\n",
      "209/209 [==============================] - 1s 4ms/step - loss: 0.6084 - acc: 0.6555\n",
      "Epoch 21/100\n",
      "209/209 [==============================] - 1s 4ms/step - loss: 0.6023 - acc: 0.6555\n",
      "Epoch 22/100\n",
      "209/209 [==============================] - 1s 4ms/step - loss: 0.5955 - acc: 0.6555\n",
      "Epoch 23/100\n",
      "209/209 [==============================] - 1s 5ms/step - loss: 0.5856 - acc: 0.6555\n",
      "Epoch 24/100\n",
      "209/209 [==============================] - 1s 5ms/step - loss: 0.5773 - acc: 0.6603\n",
      "Epoch 25/100\n",
      "209/209 [==============================] - 1s 5ms/step - loss: 0.5697 - acc: 0.6651\n",
      "Epoch 26/100\n",
      "209/209 [==============================] - 1s 5ms/step - loss: 0.5605 - acc: 0.6651\n",
      "Epoch 27/100\n",
      "209/209 [==============================] - 1s 5ms/step - loss: 0.5477 - acc: 0.6651\n",
      "Epoch 28/100\n",
      "209/209 [==============================] - 1s 5ms/step - loss: 0.5421 - acc: 0.7129\n",
      "Epoch 29/100\n",
      "209/209 [==============================] - 1s 5ms/step - loss: 0.5274 - acc: 0.6890\n",
      "Epoch 30/100\n",
      "209/209 [==============================] - 1s 5ms/step - loss: 0.5218 - acc: 0.6890\n",
      "Epoch 31/100\n",
      "209/209 [==============================] - 1s 5ms/step - loss: 0.5056 - acc: 0.7321\n",
      "Epoch 32/100\n",
      "209/209 [==============================] - 1s 5ms/step - loss: 0.4997 - acc: 0.7416\n",
      "Epoch 33/100\n",
      "209/209 [==============================] - 1s 5ms/step - loss: 0.4882 - acc: 0.7321\n",
      "Epoch 34/100\n",
      "209/209 [==============================] - 1s 5ms/step - loss: 0.4804 - acc: 0.7560\n",
      "Epoch 35/100\n",
      "209/209 [==============================] - 1s 5ms/step - loss: 0.4719 - acc: 0.7464\n",
      "Epoch 36/100\n",
      "209/209 [==============================] - 1s 5ms/step - loss: 0.4699 - acc: 0.7608\n",
      "Epoch 37/100\n",
      "209/209 [==============================] - 1s 5ms/step - loss: 0.4575 - acc: 0.7751\n",
      "Epoch 38/100\n",
      "209/209 [==============================] - 1s 5ms/step - loss: 0.4559 - acc: 0.7464\n",
      "Epoch 39/100\n",
      "209/209 [==============================] - 1s 4ms/step - loss: 0.4702 - acc: 0.7703\n",
      "Epoch 40/100\n",
      "209/209 [==============================] - 1s 5ms/step - loss: 0.4563 - acc: 0.7368\n",
      "Epoch 41/100\n",
      "209/209 [==============================] - 1s 5ms/step - loss: 0.4383 - acc: 0.7799\n",
      "Epoch 42/100\n",
      "209/209 [==============================] - 1s 4ms/step - loss: 0.4316 - acc: 0.7799\n",
      "Epoch 43/100\n",
      "209/209 [==============================] - 1s 4ms/step - loss: 0.4293 - acc: 0.7656\n",
      "Epoch 44/100\n",
      "209/209 [==============================] - 1s 5ms/step - loss: 0.4128 - acc: 0.8086\n",
      "Epoch 45/100\n",
      "209/209 [==============================] - 1s 5ms/step - loss: 0.4135 - acc: 0.7895\n",
      "Epoch 46/100\n",
      "209/209 [==============================] - 1s 5ms/step - loss: 0.4020 - acc: 0.8182\n",
      "Epoch 47/100\n",
      "209/209 [==============================] - 1s 5ms/step - loss: 0.3963 - acc: 0.8230\n",
      "Epoch 48/100\n",
      "209/209 [==============================] - 1s 5ms/step - loss: 0.3977 - acc: 0.7847\n",
      "Epoch 49/100\n",
      "209/209 [==============================] - 1s 5ms/step - loss: 0.4040 - acc: 0.8182\n",
      "Epoch 50/100\n",
      "209/209 [==============================] - 1s 5ms/step - loss: 0.3847 - acc: 0.8038\n",
      "Epoch 51/100\n",
      "209/209 [==============================] - 1s 5ms/step - loss: 0.3762 - acc: 0.8565\n",
      "Epoch 52/100\n",
      "209/209 [==============================] - 1s 5ms/step - loss: 0.3680 - acc: 0.8421\n",
      "Epoch 53/100\n",
      "209/209 [==============================] - 1s 5ms/step - loss: 0.3811 - acc: 0.8182\n",
      "Epoch 54/100\n",
      "209/209 [==============================] - 1s 5ms/step - loss: 0.3744 - acc: 0.8230\n",
      "Epoch 55/100\n",
      "209/209 [==============================] - 1s 5ms/step - loss: 0.3667 - acc: 0.8612\n",
      "Epoch 56/100\n",
      "209/209 [==============================] - 1s 5ms/step - loss: 0.3620 - acc: 0.8469\n",
      "Epoch 57/100\n",
      "209/209 [==============================] - 1s 5ms/step - loss: 0.3576 - acc: 0.8708\n",
      "Epoch 58/100\n",
      "209/209 [==============================] - 1s 5ms/step - loss: 0.3382 - acc: 0.8612\n",
      "Epoch 59/100\n",
      "209/209 [==============================] - 1s 5ms/step - loss: 0.3312 - acc: 0.8612\n",
      "Epoch 60/100\n",
      "209/209 [==============================] - 1s 5ms/step - loss: 0.3346 - acc: 0.8900\n",
      "Epoch 61/100\n",
      "209/209 [==============================] - 1s 5ms/step - loss: 0.3245 - acc: 0.8708\n",
      "Epoch 62/100\n",
      "209/209 [==============================] - 1s 4ms/step - loss: 0.3250 - acc: 0.8900\n",
      "Epoch 63/100\n",
      "209/209 [==============================] - 1s 4ms/step - loss: 0.3124 - acc: 0.8756\n",
      "Epoch 64/100\n",
      "209/209 [==============================] - 1s 5ms/step - loss: 0.3046 - acc: 0.9139\n",
      "Epoch 65/100\n",
      "209/209 [==============================] - 1s 5ms/step - loss: 0.2966 - acc: 0.9091\n",
      "Epoch 66/100\n",
      "209/209 [==============================] - 1s 5ms/step - loss: 0.2956 - acc: 0.9043\n",
      "Epoch 67/100\n",
      "209/209 [==============================] - 1s 5ms/step - loss: 0.2865 - acc: 0.9043\n",
      "Epoch 68/100\n",
      "209/209 [==============================] - 1s 5ms/step - loss: 0.2787 - acc: 0.9139\n",
      "Epoch 69/100\n",
      "209/209 [==============================] - 1s 5ms/step - loss: 0.2771 - acc: 0.9187\n",
      "Epoch 70/100\n",
      "209/209 [==============================] - 1s 5ms/step - loss: 0.2799 - acc: 0.9139\n",
      "Epoch 71/100\n",
      "209/209 [==============================] - 1s 5ms/step - loss: 0.2736 - acc: 0.9187\n",
      "Epoch 72/100\n",
      "209/209 [==============================] - 1s 5ms/step - loss: 0.2727 - acc: 0.9043\n",
      "Epoch 73/100\n",
      "209/209 [==============================] - 1s 5ms/step - loss: 0.2667 - acc: 0.8995\n",
      "Epoch 74/100\n",
      "209/209 [==============================] - 1s 5ms/step - loss: 0.2601 - acc: 0.9139\n",
      "Epoch 75/100\n",
      "209/209 [==============================] - 1s 5ms/step - loss: 0.2633 - acc: 0.8995\n",
      "Epoch 76/100\n",
      "209/209 [==============================] - 1s 5ms/step - loss: 0.2738 - acc: 0.8900\n",
      "Epoch 77/100\n",
      "209/209 [==============================] - 1s 5ms/step - loss: 0.2485 - acc: 0.9234\n",
      "Epoch 78/100\n",
      "209/209 [==============================] - 1s 5ms/step - loss: 0.2457 - acc: 0.9187\n",
      "Epoch 79/100\n",
      "209/209 [==============================] - 1s 5ms/step - loss: 0.2452 - acc: 0.9139\n",
      "Epoch 80/100\n",
      "209/209 [==============================] - 1s 5ms/step - loss: 0.2591 - acc: 0.8900\n",
      "Epoch 81/100\n",
      "209/209 [==============================] - 1s 5ms/step - loss: 0.2380 - acc: 0.9330\n",
      "Epoch 82/100\n",
      "209/209 [==============================] - 1s 5ms/step - loss: 0.2247 - acc: 0.9378\n",
      "Epoch 83/100\n"
     ]
    },
    {
     "name": "stdout",
     "output_type": "stream",
     "text": [
      "209/209 [==============================] - 1s 5ms/step - loss: 0.2256 - acc: 0.9234\n",
      "Epoch 84/100\n",
      "209/209 [==============================] - 1s 4ms/step - loss: 0.2193 - acc: 0.9282\n",
      "Epoch 85/100\n",
      "209/209 [==============================] - 1s 4ms/step - loss: 0.2134 - acc: 0.9330\n",
      "Epoch 86/100\n",
      "209/209 [==============================] - 1s 5ms/step - loss: 0.2101 - acc: 0.9330\n",
      "Epoch 87/100\n",
      "209/209 [==============================] - 1s 5ms/step - loss: 0.2093 - acc: 0.9378\n",
      "Epoch 88/100\n",
      "209/209 [==============================] - 1s 5ms/step - loss: 0.2084 - acc: 0.9330\n",
      "Epoch 89/100\n",
      "209/209 [==============================] - 1s 5ms/step - loss: 0.2003 - acc: 0.9378\n",
      "Epoch 90/100\n",
      "209/209 [==============================] - 1s 5ms/step - loss: 0.2067 - acc: 0.9282\n",
      "Epoch 91/100\n",
      "209/209 [==============================] - 1s 5ms/step - loss: 0.2025 - acc: 0.9330\n",
      "Epoch 92/100\n",
      "209/209 [==============================] - 1s 5ms/step - loss: 0.2065 - acc: 0.9330\n",
      "Epoch 93/100\n",
      "209/209 [==============================] - 1s 5ms/step - loss: 0.1907 - acc: 0.9378\n",
      "Epoch 94/100\n",
      "209/209 [==============================] - 1s 5ms/step - loss: 0.1933 - acc: 0.9522\n",
      "Epoch 95/100\n",
      "209/209 [==============================] - 1s 5ms/step - loss: 0.1916 - acc: 0.9282\n",
      "Epoch 96/100\n",
      "209/209 [==============================] - 1s 5ms/step - loss: 0.1945 - acc: 0.9474\n",
      "Epoch 97/100\n",
      "209/209 [==============================] - 1s 5ms/step - loss: 0.1909 - acc: 0.9378\n",
      "Epoch 98/100\n",
      "209/209 [==============================] - 1s 5ms/step - loss: 0.1803 - acc: 0.9474\n",
      "Epoch 99/100\n",
      "209/209 [==============================] - 1s 4ms/step - loss: 0.1799 - acc: 0.9378\n",
      "Epoch 100/100\n",
      "209/209 [==============================] - 1s 5ms/step - loss: 0.1725 - acc: 0.9426\n",
      "50/50 [==============================] - 0s 4ms/step\n"
     ]
    },
    {
     "data": {
      "image/png": "[encoded data removed]",
      "text/plain": [
       "<Figure size 576x576 with 1 Axes>"
      ]
     },
     "metadata": {
      "needs_background": "light"
     },
     "output_type": "display_data"
    },
    {
     "name": "stdout",
     "output_type": "stream",
     "text": [
      "\n",
      "\n",
      "Accuracy on training set is 0.942583732342606\n",
      "\n",
      "Accuracy on test set is 0.8400000023841858\n"
     ]
    }
   ],
   "source": [
    "evaluate_this_model(model, 100)"
   ]
  },
  {
   "cell_type": "markdown",
   "metadata": {},
   "source": [
    "## 4 - Improving Accuracy"
   ]
  },
  {
   "cell_type": "code",
   "execution_count": 18,
   "metadata": {},
   "outputs": [],
   "source": [
    "def evaluate_my_model(epochs):\n",
    "    \n",
    "    np.random.seed(1)\n",
    "    \n",
    "    train_accuracies = []\n",
    "    test_accuracies = []\n",
    "    \n",
    "\n",
    "    model = get_model()\n",
    "    history = model.fit(train_set_x, train_set_y, epochs=epochs)\n",
    "    results = model.evaluate(test_set_x, test_set_y)\n",
    "    train_accuracies.append(history.history[\"acc\"][-1])\n",
    "    test_accuracies.append(results[1])\n",
    "\n",
    "    plt.plot(np.squeeze(history.history[\"loss\"]))\n",
    "    plt.ylabel('cost')\n",
    "    plt.xlabel('iterations (per tens)')\n",
    "    plt.title(\"Last iteration\")\n",
    "    plt.show()\n",
    "    \n",
    "    print(train_accuracies)\n",
    "    print(test_accuracies)\n",
    "    print(\"\\n\\nAccuracy on training set is {}\".format(np.mean(train_accuracies)))\n",
    "    print(\"\\nAccuracy on test set is {}\".format(np.mean(test_accuracies)))"
   ]
  },
  {
   "cell_type": "markdown",
   "metadata": {},
   "source": [
    "# Task "
   ]
  },
  {
   "cell_type": "code",
   "execution_count": 19,
   "metadata": {},
   "outputs": [],
   "source": [
    "from keras import regularizers\n",
    "from keras.layers.normalization import BatchNormalization"
   ]
  },
  {
   "cell_type": "code",
   "execution_count": 20,
   "metadata": {},
   "outputs": [],
   "source": [
    "def get_model():\n",
    "    model = Sequential()\n",
    "    ## TO DO: Improve the testing accuracy by making a CNN Architecture a bit complex \n",
    "    model.add(Conv2D(10, (3, 3), activation=\"relu\", input_shape=(64,64,3)))\n",
    "    #model.add(Conv2D(10, kernel_size=3, activation= 'relu', input_shape=train_set_x.shape[1:]  ))\n",
    "    #model.add(BatchNormalization())\n",
    "    model.add(MaxPooling2D(pool_size=(2,2), strides=(2,2)))\n",
    "\n",
    "    model.add(Conv2D(15, (3, 3), activation='relu'))\n",
    "    #model.add(BatchNormalization())\n",
    "    model.add(MaxPooling2D(pool_size=(2,2), strides=(2,2)))\n",
    "\n",
    "    model.add(Conv2D(20, (3, 3), activation='relu'))\n",
    "    #model.add(BatchNormalization())\n",
    "    model.add(MaxPooling2D(pool_size=(2,2), strides=(2,2)))\n",
    "\n",
    "    model.add(Conv2D(25, (3, 3), activation='relu'))\n",
    "    model.add(BatchNormalization())\n",
    "    model.add(MaxPooling2D(pool_size=(2,2), strides=(2,2)))\n",
    "    \n",
    "    model.add(Flatten())\n",
    "    model.add(Dense(25, activation='relu'))\n",
    "    model.add(Dense(10, activation='relu'))\n",
    "    model.add(Dense(1, activation='sigmoid'))\n",
    "    model.summary()\n",
    "    learning_rate = 0.001\n",
    "    opt = Adam(lr=learning_rate)\n",
    "    model.compile(optimizer=opt,\n",
    "                  loss='binary_crossentropy',\n",
    "                  metrics=['accuracy'])\n",
    "    \n",
    "    return model"
   ]
  },
  {
   "cell_type": "code",
   "execution_count": 21,
   "metadata": {},
   "outputs": [
    {
     "name": "stdout",
     "output_type": "stream",
     "text": [
      "_________________________________________________________________\n",
      "Layer (type)                 Output Shape              Param #   \n",
      "=================================================================\n",
      "conv2d_4 (Conv2D)            (None, 62, 62, 10)        280       \n",
      "_________________________________________________________________\n",
      "max_pooling2d_4 (MaxPooling2 (None, 31, 31, 10)        0         \n",
      "_________________________________________________________________\n",
      "conv2d_5 (Conv2D)            (None, 29, 29, 15)        1365      \n",
      "_________________________________________________________________\n",
      "max_pooling2d_5 (MaxPooling2 (None, 14, 14, 15)        0         \n",
      "_________________________________________________________________\n",
      "conv2d_6 (Conv2D)            (None, 12, 12, 20)        2720      \n",
      "_________________________________________________________________\n",
      "max_pooling2d_6 (MaxPooling2 (None, 6, 6, 20)          0         \n",
      "_________________________________________________________________\n",
      "conv2d_7 (Conv2D)            (None, 4, 4, 25)          4525      \n",
      "_________________________________________________________________\n",
      "batch_normalization_1 (Batch (None, 4, 4, 25)          100       \n",
      "_________________________________________________________________\n",
      "max_pooling2d_7 (MaxPooling2 (None, 2, 2, 25)          0         \n",
      "_________________________________________________________________\n",
      "flatten_2 (Flatten)          (None, 100)               0         \n",
      "_________________________________________________________________\n",
      "dense_4 (Dense)              (None, 25)                2525      \n",
      "_________________________________________________________________\n",
      "dense_5 (Dense)              (None, 10)                260       \n",
      "_________________________________________________________________\n",
      "dense_6 (Dense)              (None, 1)                 11        \n",
      "=================================================================\n",
      "Total params: 11,786\n",
      "Trainable params: 11,736\n",
      "Non-trainable params: 50\n",
      "_________________________________________________________________\n",
      "Epoch 1/40\n",
      "209/209 [==============================] - 1s 6ms/step - loss: 0.6771 - acc: 0.5694\n",
      "Epoch 2/40\n",
      "209/209 [==============================] - 1s 5ms/step - loss: 0.5924 - acc: 0.6651\n",
      "Epoch 3/40\n",
      "209/209 [==============================] - 1s 4ms/step - loss: 0.5558 - acc: 0.6842\n",
      "Epoch 4/40\n",
      "209/209 [==============================] - 1s 5ms/step - loss: 0.5130 - acc: 0.7033\n",
      "Epoch 5/40\n",
      "209/209 [==============================] - 1s 5ms/step - loss: 0.4770 - acc: 0.7464\n",
      "Epoch 6/40\n",
      "209/209 [==============================] - 1s 5ms/step - loss: 0.4570 - acc: 0.8134\n",
      "Epoch 7/40\n",
      "209/209 [==============================] - 1s 5ms/step - loss: 0.4401 - acc: 0.7895\n",
      "Epoch 8/40\n",
      "209/209 [==============================] - 1s 5ms/step - loss: 0.4071 - acc: 0.8325\n",
      "Epoch 9/40\n",
      "209/209 [==============================] - 1s 5ms/step - loss: 0.3665 - acc: 0.8230\n",
      "Epoch 10/40\n",
      "209/209 [==============================] - 1s 5ms/step - loss: 0.3271 - acc: 0.8756\n",
      "Epoch 11/40\n",
      "209/209 [==============================] - 1s 5ms/step - loss: 0.2950 - acc: 0.8995\n",
      "Epoch 12/40\n",
      "209/209 [==============================] - 1s 4ms/step - loss: 0.2557 - acc: 0.9234\n",
      "Epoch 13/40\n",
      "209/209 [==============================] - 1s 5ms/step - loss: 0.1907 - acc: 0.9665\n",
      "Epoch 14/40\n",
      "209/209 [==============================] - 1s 5ms/step - loss: 0.1768 - acc: 0.9474\n",
      "Epoch 15/40\n",
      "209/209 [==============================] - 1s 5ms/step - loss: 0.1420 - acc: 0.9761\n",
      "Epoch 16/40\n",
      "209/209 [==============================] - 1s 4ms/step - loss: 0.1183 - acc: 0.9952\n",
      "Epoch 17/40\n",
      "209/209 [==============================] - 1s 4ms/step - loss: 0.1113 - acc: 0.9809\n",
      "Epoch 18/40\n",
      "209/209 [==============================] - 1s 5ms/step - loss: 0.1144 - acc: 0.9713\n",
      "Epoch 19/40\n",
      "209/209 [==============================] - 1s 5ms/step - loss: 0.1034 - acc: 0.9617\n",
      "Epoch 20/40\n",
      "209/209 [==============================] - 1s 5ms/step - loss: 0.0961 - acc: 0.9665\n",
      "Epoch 21/40\n",
      "209/209 [==============================] - 1s 5ms/step - loss: 0.0840 - acc: 0.9904\n",
      "Epoch 22/40\n",
      "209/209 [==============================] - 1s 5ms/step - loss: 0.0556 - acc: 1.0000\n",
      "Epoch 23/40\n",
      "209/209 [==============================] - 1s 4ms/step - loss: 0.0492 - acc: 0.9952\n",
      "Epoch 24/40\n",
      "209/209 [==============================] - 1s 4ms/step - loss: 0.0448 - acc: 1.0000\n",
      "Epoch 25/40\n",
      "209/209 [==============================] - 1s 5ms/step - loss: 0.0728 - acc: 0.9713\n",
      "Epoch 26/40\n",
      "209/209 [==============================] - 1s 5ms/step - loss: 0.0526 - acc: 0.9952\n",
      "Epoch 27/40\n",
      "209/209 [==============================] - 1s 5ms/step - loss: 0.0419 - acc: 0.9952\n",
      "Epoch 28/40\n",
      "209/209 [==============================] - 1s 5ms/step - loss: 0.0335 - acc: 0.9952\n",
      "Epoch 29/40\n",
      "209/209 [==============================] - 1s 5ms/step - loss: 0.0334 - acc: 0.9952\n",
      "Epoch 30/40\n",
      "209/209 [==============================] - 1s 4ms/step - loss: 0.0231 - acc: 1.0000\n",
      "Epoch 31/40\n",
      "209/209 [==============================] - 1s 5ms/step - loss: 0.0224 - acc: 1.0000\n",
      "Epoch 32/40\n",
      "209/209 [==============================] - 1s 5ms/step - loss: 0.0178 - acc: 1.0000\n",
      "Epoch 33/40\n",
      "209/209 [==============================] - 1s 5ms/step - loss: 0.0187 - acc: 1.0000\n",
      "Epoch 34/40\n",
      "209/209 [==============================] - 1s 5ms/step - loss: 0.0081 - acc: 1.0000\n",
      "Epoch 35/40\n",
      "209/209 [==============================] - 1s 4ms/step - loss: 0.0071 - acc: 1.0000\n",
      "Epoch 36/40\n",
      "209/209 [==============================] - 1s 5ms/step - loss: 0.0065 - acc: 1.0000\n",
      "Epoch 37/40\n",
      "209/209 [==============================] - 1s 5ms/step - loss: 0.0070 - acc: 1.0000\n",
      "Epoch 38/40\n",
      "209/209 [==============================] - 1s 5ms/step - loss: 0.0047 - acc: 1.0000\n",
      "Epoch 39/40\n",
      "209/209 [==============================] - 1s 5ms/step - loss: 0.0067 - acc: 1.0000\n",
      "Epoch 40/40\n",
      "209/209 [==============================] - 1s 5ms/step - loss: 0.0052 - acc: 1.0000\n",
      "50/50 [==============================] - 0s 6ms/step\n"
     ]
    },
    {
     "data": {
      "image/png": "[encoded data removed]",
      "text/plain": [
       "<Figure size 576x576 with 1 Axes>"
      ]
     },
     "metadata": {
      "needs_background": "light"
     },
     "output_type": "display_data"
    },
    {
     "name": "stdout",
     "output_type": "stream",
     "text": [
      "[1.0]\n",
      "[0.96]\n",
      "\n",
      "\n",
      "Accuracy on training set is 1.0\n",
      "\n",
      "Accuracy on test set is 0.96\n"
     ]
    }
   ],
   "source": [
    "epochs = 40\n",
    "evaluate_my_model(epochs)"
   ]
  },
  {
   "cell_type": "code",
   "execution_count": null,
   "metadata": {},
   "outputs": [],
   "source": []
  },
  {
   "cell_type": "code",
   "execution_count": null,
   "metadata": {},
   "outputs": [],
   "source": []
  }
 ],
 "metadata": {
  "kernelspec": {
   "display_name": "Python 3",
   "language": "python",
   "name": "python3"
  },
  "language_info": {
   "codemirror_mode": {
    "name": "ipython",
    "version": 3
   },
   "file_extension": ".py",
   "mimetype": "text/x-python",
   "name": "python",
   "nbconvert_exporter": "python",
   "pygments_lexer": "ipython3",
   "version": "3.7.6"
  }
 },
 "nbformat": 4,
 "nbformat_minor": 2
}
